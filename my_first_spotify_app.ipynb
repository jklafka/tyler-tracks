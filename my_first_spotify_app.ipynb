{
 "cells": [
  {
   "cell_type": "markdown",
   "metadata": {},
   "source": [
    "analysis coming from [here](https://stmorse.github.io/journal/spotify-api.html)"
   ]
  },
  {
   "cell_type": "code",
   "execution_count": 2,
   "metadata": {},
   "outputs": [],
   "source": [
    "import spotify\n",
    "import requests\n",
    "import pandas as pd\n",
    "import numpy as np\n",
    "import sklearn"
   ]
  },
  {
   "cell_type": "code",
   "execution_count": 5,
   "metadata": {},
   "outputs": [],
   "source": [
    "CLIENT_ID = \"fcadf02bcaa84f0cb14aa2121238ffe3\"\n",
    "CLIENT_SECRET = \"1b0370a028b34a96b34ce74fbfa634bf\""
   ]
  },
  {
   "cell_type": "code",
   "execution_count": 6,
   "metadata": {},
   "outputs": [],
   "source": [
    "AUTH_URL = 'https://accounts.spotify.com/api/token'\n",
    "\n",
    "# POST\n",
    "auth_response = requests.post(AUTH_URL, {\n",
    "    'grant_type': 'client_credentials',\n",
    "    'client_id': CLIENT_ID,\n",
    "    'client_secret': CLIENT_SECRET,\n",
    "})\n",
    "\n",
    "# convert the response to JSON\n",
    "auth_response_data = auth_response.json()\n",
    "\n",
    "# save the access token\n",
    "access_token = auth_response_data['access_token']"
   ]
  },
  {
   "cell_type": "code",
   "execution_count": 7,
   "metadata": {},
   "outputs": [],
   "source": [
    "# set header now so we can use it later to access data\n",
    "headers = {\n",
    "    'Authorization': 'Bearer {token}'.format(token=access_token)\n",
    "}"
   ]
  },
  {
   "cell_type": "code",
   "execution_count": 8,
   "metadata": {},
   "outputs": [],
   "source": [
    "# base URL of all Spotify API endpoints\n",
    "BASE_URL = 'https://api.spotify.com/v1/'\n",
    "\n",
    "# Track ID from the URI\n",
    "track_id = '6y0igZArWVi6Iz0rj35c1Y'\n",
    "\n",
    "# actual GET request with proper header\n",
    "r = requests.get(BASE_URL + 'audio-features/' + track_id, headers=headers)"
   ]
  },
  {
   "cell_type": "code",
   "execution_count": 9,
   "metadata": {},
   "outputs": [],
   "source": [
    "r = r.json()"
   ]
  },
  {
   "cell_type": "code",
   "execution_count": 10,
   "metadata": {},
   "outputs": [
    {
     "data": {
      "text/plain": [
       "{'danceability': 0.54,\n",
       " 'energy': 0.59,\n",
       " 'key': 0,\n",
       " 'loudness': -4.359,\n",
       " 'mode': 1,\n",
       " 'speechiness': 0.0528,\n",
       " 'acousticness': 0.446,\n",
       " 'instrumentalness': 0,\n",
       " 'liveness': 0.14,\n",
       " 'valence': 0.267,\n",
       " 'tempo': 119.878,\n",
       " 'type': 'audio_features',\n",
       " 'id': '6y0igZArWVi6Iz0rj35c1Y',\n",
       " 'uri': 'spotify:track:6y0igZArWVi6Iz0rj35c1Y',\n",
       " 'track_href': 'https://api.spotify.com/v1/tracks/6y0igZArWVi6Iz0rj35c1Y',\n",
       " 'analysis_url': 'https://api.spotify.com/v1/audio-analysis/6y0igZArWVi6Iz0rj35c1Y',\n",
       " 'duration_ms': 234910,\n",
       " 'time_signature': 4}"
      ]
     },
     "execution_count": 10,
     "metadata": {},
     "output_type": "execute_result"
    }
   ],
   "source": [
    "r"
   ]
  },
  {
   "cell_type": "markdown",
   "metadata": {},
   "source": [
    "Pull all Led Zeppelin data from Spotify"
   ]
  },
  {
   "cell_type": "code",
   "execution_count": 11,
   "metadata": {},
   "outputs": [],
   "source": [
    "artist_id = '36QJpDe2go2KgaRleHCDTp' #LZ artist ID\n",
    "\n",
    "# pull all artists albums\n",
    "r = requests.get(BASE_URL + 'artists/' + artist_id + '/albums', \n",
    "                 headers=headers, \n",
    "                 params={'include_groups': 'album', 'limit': 50})\n",
    "d = r.json()"
   ]
  },
  {
   "cell_type": "code",
   "execution_count": 12,
   "metadata": {},
   "outputs": [
    {
     "name": "stdout",
     "output_type": "stream",
     "text": [
      "The Complete BBC Sessions (Remastered)  ---  2016-09-16\n",
      "Physical Graffiti (Deluxe Edition)  ---  2015-02-20\n",
      "Celebration Day  ---  2012-11-19\n",
      "Mothership (Remastered)  ---  2007\n",
      "How the West Was Won (Remaster)  ---  2003-05-27\n",
      "The Lost Sessions  ---  1997\n",
      "Coda (Deluxe Edition)  ---  1982-11-19\n",
      "Coda (Remaster)  ---  1982-11-19\n",
      "In Through the out Door (Deluxe Edition)  ---  1979-08-15\n",
      "In Through the out Door (Remaster)  ---  1979-08-15\n",
      "The Song Remains the Same (Remaster)  ---  1976-10-22\n",
      "Presence (Deluxe Edition)  ---  1976-03-31\n",
      "Presence (Remaster)  ---  1976-03-31\n",
      "Physical Graffiti (Remaster)  ---  1975-02-24\n",
      "Physical Graffiti (1994 Remaster)  ---  1975-02-24\n",
      "Physical Graffiti (Deluxe Edition)  ---  1975-02-24\n",
      "Houses of the Holy (Deluxe Edition)  ---  1973-03-28\n",
      "Houses of the Holy (Remaster)  ---  1973-03-28\n",
      "Led Zeppelin IV (Deluxe Edition)  ---  1971-11-08\n",
      "Led Zeppelin IV (Remaster)  ---  1971-11-08\n",
      "Led Zeppelin III (Deluxe Edition)  ---  1970-10-05\n",
      "Led Zeppelin III (Deluxe Edition)  ---  1970-10-05\n",
      "Led Zeppelin III (Remaster)  ---  1970\n",
      "Led Zeppelin II (Deluxe Edition)  ---  1969-10-22\n",
      "Led Zeppelin II (Deluxe Edition)  ---  1969-10-22\n",
      "Led Zeppelin II (Remaster)  ---  1969-10-22\n",
      "Led Zeppelin II (1994 Remaster)  ---  1969-10-22\n",
      "Led Zeppelin (Deluxe Edition)  ---  1969-01-12\n",
      "Led Zeppelin (Deluxe Edition)  ---  1969-01-12\n",
      "Led Zeppelin (Remaster)  ---  1969-01-12\n",
      "Led Zeppelin  ---  1969-01-12\n"
     ]
    }
   ],
   "source": [
    "for album in d['items']:\n",
    "    print(album['name'], ' --- ', album['release_date'])"
   ]
  },
  {
   "cell_type": "code",
   "execution_count": 13,
   "metadata": {},
   "outputs": [
    {
     "name": "stdout",
     "output_type": "stream",
     "text": [
      "Coda (Deluxe Edition)\n",
      "In Through the out Door (Deluxe Edition)\n",
      "The Song Remains the Same (Remaster)\n",
      "Presence (Deluxe Edition)\n",
      "Physical Graffiti (Remaster)\n",
      "Houses of the Holy (Deluxe Edition)\n",
      "Led Zeppelin IV (Deluxe Edition)\n",
      "Led Zeppelin III (Deluxe Edition)\n",
      "Led Zeppelin II (Deluxe Edition)\n",
      "Led Zeppelin (Deluxe Edition)\n"
     ]
    }
   ],
   "source": [
    "data = []   # will hold all track info\n",
    "albums = [] # to keep track of duplicates\n",
    "\n",
    "# loop over albums and get all tracks\n",
    "for album in d['items']:\n",
    "    album_name = album['name']\n",
    "\n",
    "    # here's a hacky way to skip over albums we've already grabbed\n",
    "    trim_name = album_name.split('(')[0].strip()\n",
    "    if trim_name.upper() in albums or int(album['release_date'][:4]) > 1983:\n",
    "        continue\n",
    "    albums.append(trim_name.upper()) # use upper() to standardize\n",
    "    \n",
    "    # this takes a few seconds so let's keep track of progress    \n",
    "    print(album_name)\n",
    "    \n",
    "    # pull all tracks from this album\n",
    "    r = requests.get(BASE_URL + 'albums/' + album['id'] + '/tracks', \n",
    "        headers=headers)\n",
    "    tracks = r.json()['items']\n",
    "    \n",
    "    for track in tracks:\n",
    "        # get audio features (key, liveness, danceability, ...)\n",
    "        f = requests.get(BASE_URL + 'audio-features/' + track['id'], \n",
    "            headers=headers)\n",
    "        f = f.json()\n",
    "        \n",
    "        # combine with album info\n",
    "        f.update({\n",
    "            'track_name': track['name'],\n",
    "            'album_name': album_name,\n",
    "            'short_album_name': trim_name,\n",
    "            'release_date': album['release_date'],\n",
    "            'album_id': album['id']\n",
    "        })\n",
    "        \n",
    "        data.append(f)"
   ]
  },
  {
   "cell_type": "code",
   "execution_count": 14,
   "metadata": {},
   "outputs": [],
   "source": [
    "# convert list of dicts into a dataframe\n",
    "df = pd.DataFrame(data)"
   ]
  },
  {
   "cell_type": "code",
   "execution_count": 15,
   "metadata": {},
   "outputs": [],
   "source": [
    "# convert release_date to an actual date, and sort by it\n",
    "df['release_date'] = pd.to_datetime(df['release_date'])\n",
    "df = df.sort_values(by='release_date')\n",
    "\n",
    "# Zeppelin-specific: get rid of live album, remixes, vocal tracks, ...\n",
    "df = df.query('short_album_name != \"The Song Remains The Same\"')\n",
    "df = df[~df['track_name'].str.contains('Live|Mix|Track')]"
   ]
  },
  {
   "cell_type": "code",
   "execution_count": 16,
   "metadata": {},
   "outputs": [
    {
     "data": {
      "text/html": [
       "<div>\n",
       "<style scoped>\n",
       "    .dataframe tbody tr th:only-of-type {\n",
       "        vertical-align: middle;\n",
       "    }\n",
       "\n",
       "    .dataframe tbody tr th {\n",
       "        vertical-align: top;\n",
       "    }\n",
       "\n",
       "    .dataframe thead th {\n",
       "        text-align: right;\n",
       "    }\n",
       "</style>\n",
       "<table border=\"1\" class=\"dataframe\">\n",
       "  <thead>\n",
       "    <tr style=\"text-align: right;\">\n",
       "      <th></th>\n",
       "      <th>danceability</th>\n",
       "      <th>energy</th>\n",
       "      <th>key</th>\n",
       "      <th>loudness</th>\n",
       "      <th>mode</th>\n",
       "      <th>speechiness</th>\n",
       "      <th>acousticness</th>\n",
       "      <th>instrumentalness</th>\n",
       "      <th>liveness</th>\n",
       "      <th>valence</th>\n",
       "      <th>...</th>\n",
       "      <th>uri</th>\n",
       "      <th>track_href</th>\n",
       "      <th>analysis_url</th>\n",
       "      <th>duration_ms</th>\n",
       "      <th>time_signature</th>\n",
       "      <th>track_name</th>\n",
       "      <th>album_name</th>\n",
       "      <th>short_album_name</th>\n",
       "      <th>release_date</th>\n",
       "      <th>album_id</th>\n",
       "    </tr>\n",
       "  </thead>\n",
       "  <tbody>\n",
       "    <tr>\n",
       "      <th>143</th>\n",
       "      <td>0.445</td>\n",
       "      <td>0.703</td>\n",
       "      <td>9</td>\n",
       "      <td>-9.783</td>\n",
       "      <td>1</td>\n",
       "      <td>0.0859</td>\n",
       "      <td>0.0828</td>\n",
       "      <td>0.000003</td>\n",
       "      <td>0.0782</td>\n",
       "      <td>0.633</td>\n",
       "      <td>...</td>\n",
       "      <td>spotify:track:6sMGNw1E4q79DoAFGDCYuD</td>\n",
       "      <td>https://api.spotify.com/v1/tracks/6sMGNw1E4q79...</td>\n",
       "      <td>https://api.spotify.com/v1/audio-analysis/6sMG...</td>\n",
       "      <td>166107</td>\n",
       "      <td>4</td>\n",
       "      <td>Good Times Bad Times - Remaster</td>\n",
       "      <td>Led Zeppelin (Deluxe Edition)</td>\n",
       "      <td>Led Zeppelin</td>\n",
       "      <td>1969-01-12</td>\n",
       "      <td>22BzOOZKYZ2jYYKLpOlnET</td>\n",
       "    </tr>\n",
       "    <tr>\n",
       "      <th>144</th>\n",
       "      <td>0.411</td>\n",
       "      <td>0.466</td>\n",
       "      <td>4</td>\n",
       "      <td>-11.537</td>\n",
       "      <td>0</td>\n",
       "      <td>0.0332</td>\n",
       "      <td>0.3750</td>\n",
       "      <td>0.000085</td>\n",
       "      <td>0.1420</td>\n",
       "      <td>0.158</td>\n",
       "      <td>...</td>\n",
       "      <td>spotify:track:1Y6xEUUKAVWO060yJRCces</td>\n",
       "      <td>https://api.spotify.com/v1/tracks/1Y6xEUUKAVWO...</td>\n",
       "      <td>https://api.spotify.com/v1/audio-analysis/1Y6x...</td>\n",
       "      <td>402761</td>\n",
       "      <td>4</td>\n",
       "      <td>Babe I'm Gonna Leave You - Remaster</td>\n",
       "      <td>Led Zeppelin (Deluxe Edition)</td>\n",
       "      <td>Led Zeppelin</td>\n",
       "      <td>1969-01-12</td>\n",
       "      <td>22BzOOZKYZ2jYYKLpOlnET</td>\n",
       "    </tr>\n",
       "    <tr>\n",
       "      <th>145</th>\n",
       "      <td>0.366</td>\n",
       "      <td>0.560</td>\n",
       "      <td>11</td>\n",
       "      <td>-10.361</td>\n",
       "      <td>0</td>\n",
       "      <td>0.0633</td>\n",
       "      <td>0.6470</td>\n",
       "      <td>0.007030</td>\n",
       "      <td>0.1800</td>\n",
       "      <td>0.361</td>\n",
       "      <td>...</td>\n",
       "      <td>spotify:track:2Y1HhOfvtzms7urVKFY67n</td>\n",
       "      <td>https://api.spotify.com/v1/tracks/2Y1HhOfvtzms...</td>\n",
       "      <td>https://api.spotify.com/v1/audio-analysis/2Y1H...</td>\n",
       "      <td>388467</td>\n",
       "      <td>3</td>\n",
       "      <td>You Shook Me - Remaster</td>\n",
       "      <td>Led Zeppelin (Deluxe Edition)</td>\n",
       "      <td>Led Zeppelin</td>\n",
       "      <td>1969-01-12</td>\n",
       "      <td>22BzOOZKYZ2jYYKLpOlnET</td>\n",
       "    </tr>\n",
       "    <tr>\n",
       "      <th>146</th>\n",
       "      <td>0.240</td>\n",
       "      <td>0.546</td>\n",
       "      <td>2</td>\n",
       "      <td>-10.026</td>\n",
       "      <td>1</td>\n",
       "      <td>0.0548</td>\n",
       "      <td>0.0898</td>\n",
       "      <td>0.006480</td>\n",
       "      <td>0.0898</td>\n",
       "      <td>0.429</td>\n",
       "      <td>...</td>\n",
       "      <td>spotify:track:2WbfcArcwBvsbnikIQdBN9</td>\n",
       "      <td>https://api.spotify.com/v1/tracks/2WbfcArcwBvs...</td>\n",
       "      <td>https://api.spotify.com/v1/audio-analysis/2Wbf...</td>\n",
       "      <td>388667</td>\n",
       "      <td>4</td>\n",
       "      <td>Dazed and Confused - Remaster</td>\n",
       "      <td>Led Zeppelin (Deluxe Edition)</td>\n",
       "      <td>Led Zeppelin</td>\n",
       "      <td>1969-01-12</td>\n",
       "      <td>22BzOOZKYZ2jYYKLpOlnET</td>\n",
       "    </tr>\n",
       "    <tr>\n",
       "      <th>147</th>\n",
       "      <td>0.328</td>\n",
       "      <td>0.575</td>\n",
       "      <td>7</td>\n",
       "      <td>-10.437</td>\n",
       "      <td>1</td>\n",
       "      <td>0.0439</td>\n",
       "      <td>0.3510</td>\n",
       "      <td>0.000556</td>\n",
       "      <td>0.6880</td>\n",
       "      <td>0.249</td>\n",
       "      <td>...</td>\n",
       "      <td>spotify:track:0by20SqfRktdZ6hdd0byjt</td>\n",
       "      <td>https://api.spotify.com/v1/tracks/0by20SqfRktd...</td>\n",
       "      <td>https://api.spotify.com/v1/audio-analysis/0by2...</td>\n",
       "      <td>274694</td>\n",
       "      <td>4</td>\n",
       "      <td>Your Time Is Gonna Come - Remaster</td>\n",
       "      <td>Led Zeppelin (Deluxe Edition)</td>\n",
       "      <td>Led Zeppelin</td>\n",
       "      <td>1969-01-12</td>\n",
       "      <td>22BzOOZKYZ2jYYKLpOlnET</td>\n",
       "    </tr>\n",
       "  </tbody>\n",
       "</table>\n",
       "<p>5 rows × 23 columns</p>\n",
       "</div>"
      ],
      "text/plain": [
       "     danceability  energy  key  loudness  mode  speechiness  acousticness  \\\n",
       "143         0.445   0.703    9    -9.783     1       0.0859        0.0828   \n",
       "144         0.411   0.466    4   -11.537     0       0.0332        0.3750   \n",
       "145         0.366   0.560   11   -10.361     0       0.0633        0.6470   \n",
       "146         0.240   0.546    2   -10.026     1       0.0548        0.0898   \n",
       "147         0.328   0.575    7   -10.437     1       0.0439        0.3510   \n",
       "\n",
       "     instrumentalness  liveness  valence  ...  \\\n",
       "143          0.000003    0.0782    0.633  ...   \n",
       "144          0.000085    0.1420    0.158  ...   \n",
       "145          0.007030    0.1800    0.361  ...   \n",
       "146          0.006480    0.0898    0.429  ...   \n",
       "147          0.000556    0.6880    0.249  ...   \n",
       "\n",
       "                                      uri  \\\n",
       "143  spotify:track:6sMGNw1E4q79DoAFGDCYuD   \n",
       "144  spotify:track:1Y6xEUUKAVWO060yJRCces   \n",
       "145  spotify:track:2Y1HhOfvtzms7urVKFY67n   \n",
       "146  spotify:track:2WbfcArcwBvsbnikIQdBN9   \n",
       "147  spotify:track:0by20SqfRktdZ6hdd0byjt   \n",
       "\n",
       "                                            track_href  \\\n",
       "143  https://api.spotify.com/v1/tracks/6sMGNw1E4q79...   \n",
       "144  https://api.spotify.com/v1/tracks/1Y6xEUUKAVWO...   \n",
       "145  https://api.spotify.com/v1/tracks/2Y1HhOfvtzms...   \n",
       "146  https://api.spotify.com/v1/tracks/2WbfcArcwBvs...   \n",
       "147  https://api.spotify.com/v1/tracks/0by20SqfRktd...   \n",
       "\n",
       "                                          analysis_url duration_ms  \\\n",
       "143  https://api.spotify.com/v1/audio-analysis/6sMG...      166107   \n",
       "144  https://api.spotify.com/v1/audio-analysis/1Y6x...      402761   \n",
       "145  https://api.spotify.com/v1/audio-analysis/2Y1H...      388467   \n",
       "146  https://api.spotify.com/v1/audio-analysis/2Wbf...      388667   \n",
       "147  https://api.spotify.com/v1/audio-analysis/0by2...      274694   \n",
       "\n",
       "    time_signature                           track_name  \\\n",
       "143              4      Good Times Bad Times - Remaster   \n",
       "144              4  Babe I'm Gonna Leave You - Remaster   \n",
       "145              3              You Shook Me - Remaster   \n",
       "146              4        Dazed and Confused - Remaster   \n",
       "147              4   Your Time Is Gonna Come - Remaster   \n",
       "\n",
       "                        album_name  short_album_name release_date  \\\n",
       "143  Led Zeppelin (Deluxe Edition)      Led Zeppelin   1969-01-12   \n",
       "144  Led Zeppelin (Deluxe Edition)      Led Zeppelin   1969-01-12   \n",
       "145  Led Zeppelin (Deluxe Edition)      Led Zeppelin   1969-01-12   \n",
       "146  Led Zeppelin (Deluxe Edition)      Led Zeppelin   1969-01-12   \n",
       "147  Led Zeppelin (Deluxe Edition)      Led Zeppelin   1969-01-12   \n",
       "\n",
       "                   album_id  \n",
       "143  22BzOOZKYZ2jYYKLpOlnET  \n",
       "144  22BzOOZKYZ2jYYKLpOlnET  \n",
       "145  22BzOOZKYZ2jYYKLpOlnET  \n",
       "146  22BzOOZKYZ2jYYKLpOlnET  \n",
       "147  22BzOOZKYZ2jYYKLpOlnET  \n",
       "\n",
       "[5 rows x 23 columns]"
      ]
     },
     "execution_count": 16,
     "metadata": {},
     "output_type": "execute_result"
    }
   ],
   "source": [
    "df.head()"
   ]
  },
  {
   "cell_type": "markdown",
   "metadata": {},
   "source": [
    "## time for data visualization"
   ]
  },
  {
   "cell_type": "code",
   "execution_count": 17,
   "metadata": {},
   "outputs": [],
   "source": [
    "%matplotlib inline\n",
    "import matplotlib.pyplot as plt\n",
    "import seaborn as sns"
   ]
  },
  {
   "cell_type": "code",
   "execution_count": 35,
   "metadata": {},
   "outputs": [
    {
     "data": {
      "text/plain": [
       "<matplotlib.legend.Legend at 0x7fbd7c5f16a0>"
      ]
     },
     "execution_count": 35,
     "metadata": {},
     "output_type": "execute_result"
    },
    {
     "data": {
      "image/png": "[encoded data removed]",
      "text/plain": [
       "<Figure size 720x720 with 1 Axes>"
      ]
     },
     "metadata": {
      "needs_background": "light"
     },
     "output_type": "display_data"
    }
   ],
   "source": [
    "plt.figure(figsize=(10,10))\n",
    "\n",
    "ax = sns.scatterplot(data=df, x='valence', y='acousticness', \n",
    "                     hue='short_album_name', palette='rainbow', \n",
    "                     size='duration_ms', sizes=(50,1000), \n",
    "                     alpha=0.7)\n",
    "\n",
    "# display legend without `size` attribute\n",
    "h,labs = ax.get_legend_handles_labels()\n",
    "ax.legend(h[1:10], labs[1:10], loc='best', title=None)"
   ]
  },
  {
   "cell_type": "markdown",
   "metadata": {},
   "source": [
    "## Dimensionality reduction"
   ]
  },
  {
   "cell_type": "markdown",
   "metadata": {},
   "source": [
    "This is great for working with comparing two dimensions across all of Led Zeppelin's tracks, but for doing any more advanced kind of analysis, then we'd like to do dimensionality reduction. PCA is a good place to start, but it's limited in that the lower-dimensional surface you project your data onto is strictly linear (and most data is non-linear in higher dimensions). So let's try to learn a non-linear manifold using t-SNE (thanks Josh Tenenbaum)."
   ]
  },
  {
   "cell_type": "code",
   "execution_count": 19,
   "metadata": {},
   "outputs": [],
   "source": [
    "from sklearn.manifold import TSNE\n",
    "from sklearn.preprocessing import StandardScaler\n",
    "\n",
    "# extract relevant columns to numpy array\n",
    "X = (df\n",
    " .filter(['acousticness', 'danceability', 'duration_ms', 'energy',\n",
    "          'instrumentalness', 'liveness', 'loudness', 'tempo', 'valence'])\n",
    ")\n",
    "\n",
    "# algo will do better if data is standardized (zero mean, unit variance)\n",
    "Xs = StandardScaler().fit_transform(X)"
   ]
  },
  {
   "cell_type": "code",
   "execution_count": 42,
   "metadata": {},
   "outputs": [
    {
     "ename": "TypeError",
     "evalue": "object of type 'int' has no len()",
     "output_type": "error",
     "traceback": [
      "\u001b[0;31m---------------------------------------------------------------------------\u001b[0m",
      "\u001b[0;31mTypeError\u001b[0m                                 Traceback (most recent call last)",
      "\u001b[0;32m<ipython-input-42-441be8b4c4f6>\u001b[0m in \u001b[0;36m<module>\u001b[0;34m\u001b[0m\n\u001b[1;32m     10\u001b[0m \u001b[0mplt\u001b[0m\u001b[0;34m.\u001b[0m\u001b[0mfigure\u001b[0m\u001b[0;34m(\u001b[0m\u001b[0mfigsize\u001b[0m\u001b[0;34m=\u001b[0m\u001b[0;34m(\u001b[0m\u001b[0;36m10\u001b[0m\u001b[0;34m,\u001b[0m\u001b[0;36m10\u001b[0m\u001b[0;34m)\u001b[0m\u001b[0;34m)\u001b[0m\u001b[0;34m\u001b[0m\u001b[0;34m\u001b[0m\u001b[0m\n\u001b[1;32m     11\u001b[0m \u001b[0;34m\u001b[0m\u001b[0m\n\u001b[0;32m---> 12\u001b[0;31m ax = sns.scatterplot(data=tsne, x=0, y=1, \n\u001b[0m\u001b[1;32m     13\u001b[0m                      \u001b[0mhue\u001b[0m\u001b[0;34m=\u001b[0m\u001b[0;34m'short_album_name'\u001b[0m\u001b[0;34m,\u001b[0m \u001b[0mpalette\u001b[0m\u001b[0;34m=\u001b[0m\u001b[0;34m'rainbow'\u001b[0m\u001b[0;34m,\u001b[0m\u001b[0;34m\u001b[0m\u001b[0;34m\u001b[0m\u001b[0m\n\u001b[1;32m     14\u001b[0m                      \u001b[0msize\u001b[0m\u001b[0;34m=\u001b[0m\u001b[0;34m'duration_ms'\u001b[0m\u001b[0;34m,\u001b[0m \u001b[0msizes\u001b[0m\u001b[0;34m=\u001b[0m\u001b[0;34m(\u001b[0m\u001b[0;36m50\u001b[0m\u001b[0;34m,\u001b[0m\u001b[0;36m1000\u001b[0m\u001b[0;34m)\u001b[0m\u001b[0;34m,\u001b[0m\u001b[0;34m\u001b[0m\u001b[0;34m\u001b[0m\u001b[0m\n",
      "\u001b[0;32m~/opt/anaconda3/lib/python3.8/site-packages/seaborn/_decorators.py\u001b[0m in \u001b[0;36minner_f\u001b[0;34m(*args, **kwargs)\u001b[0m\n\u001b[1;32m     44\u001b[0m             )\n\u001b[1;32m     45\u001b[0m         \u001b[0mkwargs\u001b[0m\u001b[0;34m.\u001b[0m\u001b[0mupdate\u001b[0m\u001b[0;34m(\u001b[0m\u001b[0;34m{\u001b[0m\u001b[0mk\u001b[0m\u001b[0;34m:\u001b[0m \u001b[0marg\u001b[0m \u001b[0;32mfor\u001b[0m \u001b[0mk\u001b[0m\u001b[0;34m,\u001b[0m \u001b[0marg\u001b[0m \u001b[0;32min\u001b[0m \u001b[0mzip\u001b[0m\u001b[0;34m(\u001b[0m\u001b[0msig\u001b[0m\u001b[0;34m.\u001b[0m\u001b[0mparameters\u001b[0m\u001b[0;34m,\u001b[0m \u001b[0margs\u001b[0m\u001b[0;34m)\u001b[0m\u001b[0;34m}\u001b[0m\u001b[0;34m)\u001b[0m\u001b[0;34m\u001b[0m\u001b[0;34m\u001b[0m\u001b[0m\n\u001b[0;32m---> 46\u001b[0;31m         \u001b[0;32mreturn\u001b[0m \u001b[0mf\u001b[0m\u001b[0;34m(\u001b[0m\u001b[0;34m**\u001b[0m\u001b[0mkwargs\u001b[0m\u001b[0;34m)\u001b[0m\u001b[0;34m\u001b[0m\u001b[0;34m\u001b[0m\u001b[0m\n\u001b[0m\u001b[1;32m     47\u001b[0m     \u001b[0;32mreturn\u001b[0m \u001b[0minner_f\u001b[0m\u001b[0;34m\u001b[0m\u001b[0;34m\u001b[0m\u001b[0m\n\u001b[1;32m     48\u001b[0m \u001b[0;34m\u001b[0m\u001b[0m\n",
      "\u001b[0;32m~/opt/anaconda3/lib/python3.8/site-packages/seaborn/relational.py\u001b[0m in \u001b[0;36mscatterplot\u001b[0;34m(x, y, hue, style, size, data, palette, hue_order, hue_norm, sizes, size_order, size_norm, markers, style_order, x_bins, y_bins, units, estimator, ci, n_boot, alpha, x_jitter, y_jitter, legend, ax, **kwargs)\u001b[0m\n\u001b[1;32m    792\u001b[0m \u001b[0;34m\u001b[0m\u001b[0m\n\u001b[1;32m    793\u001b[0m     \u001b[0mvariables\u001b[0m \u001b[0;34m=\u001b[0m \u001b[0m_ScatterPlotter\u001b[0m\u001b[0;34m.\u001b[0m\u001b[0mget_semantics\u001b[0m\u001b[0;34m(\u001b[0m\u001b[0mlocals\u001b[0m\u001b[0;34m(\u001b[0m\u001b[0;34m)\u001b[0m\u001b[0;34m)\u001b[0m\u001b[0;34m\u001b[0m\u001b[0;34m\u001b[0m\u001b[0m\n\u001b[0;32m--> 794\u001b[0;31m     p = _ScatterPlotter(\n\u001b[0m\u001b[1;32m    795\u001b[0m         \u001b[0mdata\u001b[0m\u001b[0;34m=\u001b[0m\u001b[0mdata\u001b[0m\u001b[0;34m,\u001b[0m \u001b[0mvariables\u001b[0m\u001b[0;34m=\u001b[0m\u001b[0mvariables\u001b[0m\u001b[0;34m,\u001b[0m\u001b[0;34m\u001b[0m\u001b[0;34m\u001b[0m\u001b[0m\n\u001b[1;32m    796\u001b[0m         \u001b[0mx_bins\u001b[0m\u001b[0;34m=\u001b[0m\u001b[0mx_bins\u001b[0m\u001b[0;34m,\u001b[0m \u001b[0my_bins\u001b[0m\u001b[0;34m=\u001b[0m\u001b[0my_bins\u001b[0m\u001b[0;34m,\u001b[0m\u001b[0;34m\u001b[0m\u001b[0;34m\u001b[0m\u001b[0m\n",
      "\u001b[0;32m~/opt/anaconda3/lib/python3.8/site-packages/seaborn/relational.py\u001b[0m in \u001b[0;36m__init__\u001b[0;34m(self, data, variables, x_bins, y_bins, estimator, ci, n_boot, alpha, x_jitter, y_jitter, legend)\u001b[0m\n\u001b[1;32m    578\u001b[0m         )\n\u001b[1;32m    579\u001b[0m \u001b[0;34m\u001b[0m\u001b[0m\n\u001b[0;32m--> 580\u001b[0;31m         \u001b[0msuper\u001b[0m\u001b[0;34m(\u001b[0m\u001b[0;34m)\u001b[0m\u001b[0;34m.\u001b[0m\u001b[0m__init__\u001b[0m\u001b[0;34m(\u001b[0m\u001b[0mdata\u001b[0m\u001b[0;34m=\u001b[0m\u001b[0mdata\u001b[0m\u001b[0;34m,\u001b[0m \u001b[0mvariables\u001b[0m\u001b[0;34m=\u001b[0m\u001b[0mvariables\u001b[0m\u001b[0;34m)\u001b[0m\u001b[0;34m\u001b[0m\u001b[0;34m\u001b[0m\u001b[0m\n\u001b[0m\u001b[1;32m    581\u001b[0m \u001b[0;34m\u001b[0m\u001b[0m\n\u001b[1;32m    582\u001b[0m         \u001b[0mself\u001b[0m\u001b[0;34m.\u001b[0m\u001b[0malpha\u001b[0m \u001b[0;34m=\u001b[0m \u001b[0malpha\u001b[0m\u001b[0;34m\u001b[0m\u001b[0;34m\u001b[0m\u001b[0m\n",
      "\u001b[0;32m~/opt/anaconda3/lib/python3.8/site-packages/seaborn/_core.py\u001b[0m in \u001b[0;36m__init__\u001b[0;34m(self, data, variables)\u001b[0m\n\u001b[1;32m    602\u001b[0m     \u001b[0;32mdef\u001b[0m \u001b[0m__init__\u001b[0m\u001b[0;34m(\u001b[0m\u001b[0mself\u001b[0m\u001b[0;34m,\u001b[0m \u001b[0mdata\u001b[0m\u001b[0;34m=\u001b[0m\u001b[0;32mNone\u001b[0m\u001b[0;34m,\u001b[0m \u001b[0mvariables\u001b[0m\u001b[0;34m=\u001b[0m\u001b[0;34m{\u001b[0m\u001b[0;34m}\u001b[0m\u001b[0;34m)\u001b[0m\u001b[0;34m:\u001b[0m\u001b[0;34m\u001b[0m\u001b[0;34m\u001b[0m\u001b[0m\n\u001b[1;32m    603\u001b[0m \u001b[0;34m\u001b[0m\u001b[0m\n\u001b[0;32m--> 604\u001b[0;31m         \u001b[0mself\u001b[0m\u001b[0;34m.\u001b[0m\u001b[0massign_variables\u001b[0m\u001b[0;34m(\u001b[0m\u001b[0mdata\u001b[0m\u001b[0;34m,\u001b[0m \u001b[0mvariables\u001b[0m\u001b[0;34m)\u001b[0m\u001b[0;34m\u001b[0m\u001b[0;34m\u001b[0m\u001b[0m\n\u001b[0m\u001b[1;32m    605\u001b[0m \u001b[0;34m\u001b[0m\u001b[0m\n\u001b[1;32m    606\u001b[0m         \u001b[0;32mfor\u001b[0m \u001b[0mvar\u001b[0m\u001b[0;34m,\u001b[0m \u001b[0mcls\u001b[0m \u001b[0;32min\u001b[0m \u001b[0mself\u001b[0m\u001b[0;34m.\u001b[0m\u001b[0m_semantic_mappings\u001b[0m\u001b[0;34m.\u001b[0m\u001b[0mitems\u001b[0m\u001b[0;34m(\u001b[0m\u001b[0;34m)\u001b[0m\u001b[0;34m:\u001b[0m\u001b[0;34m\u001b[0m\u001b[0;34m\u001b[0m\u001b[0m\n",
      "\u001b[0;32m~/opt/anaconda3/lib/python3.8/site-packages/seaborn/_core.py\u001b[0m in \u001b[0;36massign_variables\u001b[0;34m(self, data, variables)\u001b[0m\n\u001b[1;32m    665\u001b[0m         \u001b[0;32melse\u001b[0m\u001b[0;34m:\u001b[0m\u001b[0;34m\u001b[0m\u001b[0;34m\u001b[0m\u001b[0m\n\u001b[1;32m    666\u001b[0m             \u001b[0mself\u001b[0m\u001b[0;34m.\u001b[0m\u001b[0minput_format\u001b[0m \u001b[0;34m=\u001b[0m \u001b[0;34m\"long\"\u001b[0m\u001b[0;34m\u001b[0m\u001b[0;34m\u001b[0m\u001b[0m\n\u001b[0;32m--> 667\u001b[0;31m             plot_data, variables = self._assign_variables_longform(\n\u001b[0m\u001b[1;32m    668\u001b[0m                 \u001b[0mdata\u001b[0m\u001b[0;34m,\u001b[0m \u001b[0;34m**\u001b[0m\u001b[0mvariables\u001b[0m\u001b[0;34m,\u001b[0m\u001b[0;34m\u001b[0m\u001b[0;34m\u001b[0m\u001b[0m\n\u001b[1;32m    669\u001b[0m             )\n",
      "\u001b[0;32m~/opt/anaconda3/lib/python3.8/site-packages/seaborn/_core.py\u001b[0m in \u001b[0;36m_assign_variables_longform\u001b[0;34m(self, data, **kwargs)\u001b[0m\n\u001b[1;32m    893\u001b[0m                 \u001b[0;31m# Raise when data is present and a vector can't be combined with it\u001b[0m\u001b[0;34m\u001b[0m\u001b[0;34m\u001b[0m\u001b[0;34m\u001b[0m\u001b[0m\n\u001b[1;32m    894\u001b[0m                 \u001b[0;32mif\u001b[0m \u001b[0misinstance\u001b[0m\u001b[0;34m(\u001b[0m\u001b[0mdata\u001b[0m\u001b[0;34m,\u001b[0m \u001b[0mpd\u001b[0m\u001b[0;34m.\u001b[0m\u001b[0mDataFrame\u001b[0m\u001b[0;34m)\u001b[0m \u001b[0;32mand\u001b[0m \u001b[0;32mnot\u001b[0m \u001b[0misinstance\u001b[0m\u001b[0;34m(\u001b[0m\u001b[0mval\u001b[0m\u001b[0;34m,\u001b[0m \u001b[0mpd\u001b[0m\u001b[0;34m.\u001b[0m\u001b[0mSeries\u001b[0m\u001b[0;34m)\u001b[0m\u001b[0;34m:\u001b[0m\u001b[0;34m\u001b[0m\u001b[0;34m\u001b[0m\u001b[0m\n\u001b[0;32m--> 895\u001b[0;31m                     \u001b[0;32mif\u001b[0m \u001b[0mval\u001b[0m \u001b[0;32mis\u001b[0m \u001b[0;32mnot\u001b[0m \u001b[0;32mNone\u001b[0m \u001b[0;32mand\u001b[0m \u001b[0mlen\u001b[0m\u001b[0;34m(\u001b[0m\u001b[0mdata\u001b[0m\u001b[0;34m)\u001b[0m \u001b[0;34m!=\u001b[0m \u001b[0mlen\u001b[0m\u001b[0;34m(\u001b[0m\u001b[0mval\u001b[0m\u001b[0;34m)\u001b[0m\u001b[0;34m:\u001b[0m\u001b[0;34m\u001b[0m\u001b[0;34m\u001b[0m\u001b[0m\n\u001b[0m\u001b[1;32m    896\u001b[0m                         \u001b[0mval_cls\u001b[0m \u001b[0;34m=\u001b[0m \u001b[0mval\u001b[0m\u001b[0;34m.\u001b[0m\u001b[0m__class__\u001b[0m\u001b[0;34m.\u001b[0m\u001b[0m__name__\u001b[0m\u001b[0;34m\u001b[0m\u001b[0;34m\u001b[0m\u001b[0m\n\u001b[1;32m    897\u001b[0m                         err = (\n",
      "\u001b[0;31mTypeError\u001b[0m: object of type 'int' has no len()"
     ]
    },
    {
     "data": {
      "text/plain": [
       "<Figure size 720x720 with 0 Axes>"
      ]
     },
     "metadata": {},
     "output_type": "display_data"
    }
   ],
   "source": [
    "# construct 2-d embedding\n",
    "tsne = TSNE(n_components=2, perplexity=5, \n",
    "    early_exaggeration=2, random_state=3).fit_transform(Xs)\n",
    "\n",
    "# convert to dataframe for plotting purposes\n",
    "tsne = pd.DataFrame(tsne)\n",
    "tsne['short_album_name'] = df['short_album_name']\n",
    "tsne['duration_ms'] = df['duration_ms']\n",
    "\n",
    "plt.figure(figsize=(10,10))\n",
    "\n",
    "ax = sns.scatterplot(data=tsne, x=0, y=1, \n",
    "                     hue='short_album_name', palette='rainbow', \n",
    "                     size='duration_ms', sizes=(50,1000), \n",
    "                     alpha=0.7)\n",
    "\n",
    "# display legend without `size` attribute\n",
    "h,labs = ax.get_legend_handles_labels()\n",
    "ax.legend(h[1:10], labs[1:10], loc='best', ncol=2)\n",
    "\n",
    "plt.show()"
   ]
  },
  {
   "cell_type": "code",
   "execution_count": 40,
   "metadata": {},
   "outputs": [
    {
     "ename": "AttributeError",
     "evalue": "'DataFrame' object has no attribute 'len'",
     "output_type": "error",
     "traceback": [
      "\u001b[0;31m---------------------------------------------------------------------------\u001b[0m",
      "\u001b[0;31mAttributeError\u001b[0m                            Traceback (most recent call last)",
      "\u001b[0;32m<ipython-input-40-2056a6e4e4b1>\u001b[0m in \u001b[0;36m<module>\u001b[0;34m\u001b[0m\n\u001b[0;32m----> 1\u001b[0;31m \u001b[0mpd\u001b[0m\u001b[0;34m.\u001b[0m\u001b[0mDataFrame\u001b[0m\u001b[0;34m(\u001b[0m\u001b[0mtsne\u001b[0m\u001b[0;34m)\u001b[0m\u001b[0;34m.\u001b[0m\u001b[0mlen\u001b[0m\u001b[0;34m(\u001b[0m\u001b[0;34m)\u001b[0m\u001b[0;34m\u001b[0m\u001b[0;34m\u001b[0m\u001b[0m\n\u001b[0m",
      "\u001b[0;32m~/opt/anaconda3/lib/python3.8/site-packages/pandas/core/generic.py\u001b[0m in \u001b[0;36m__getattr__\u001b[0;34m(self, name)\u001b[0m\n\u001b[1;32m   5137\u001b[0m             \u001b[0;32mif\u001b[0m \u001b[0mself\u001b[0m\u001b[0;34m.\u001b[0m\u001b[0m_info_axis\u001b[0m\u001b[0;34m.\u001b[0m\u001b[0m_can_hold_identifiers_and_holds_name\u001b[0m\u001b[0;34m(\u001b[0m\u001b[0mname\u001b[0m\u001b[0;34m)\u001b[0m\u001b[0;34m:\u001b[0m\u001b[0;34m\u001b[0m\u001b[0;34m\u001b[0m\u001b[0m\n\u001b[1;32m   5138\u001b[0m                 \u001b[0;32mreturn\u001b[0m \u001b[0mself\u001b[0m\u001b[0;34m[\u001b[0m\u001b[0mname\u001b[0m\u001b[0;34m]\u001b[0m\u001b[0;34m\u001b[0m\u001b[0;34m\u001b[0m\u001b[0m\n\u001b[0;32m-> 5139\u001b[0;31m             \u001b[0;32mreturn\u001b[0m \u001b[0mobject\u001b[0m\u001b[0;34m.\u001b[0m\u001b[0m__getattribute__\u001b[0m\u001b[0;34m(\u001b[0m\u001b[0mself\u001b[0m\u001b[0;34m,\u001b[0m \u001b[0mname\u001b[0m\u001b[0;34m)\u001b[0m\u001b[0;34m\u001b[0m\u001b[0;34m\u001b[0m\u001b[0m\n\u001b[0m\u001b[1;32m   5140\u001b[0m \u001b[0;34m\u001b[0m\u001b[0m\n\u001b[1;32m   5141\u001b[0m     \u001b[0;32mdef\u001b[0m \u001b[0m__setattr__\u001b[0m\u001b[0;34m(\u001b[0m\u001b[0mself\u001b[0m\u001b[0;34m,\u001b[0m \u001b[0mname\u001b[0m\u001b[0;34m:\u001b[0m \u001b[0mstr\u001b[0m\u001b[0;34m,\u001b[0m \u001b[0mvalue\u001b[0m\u001b[0;34m)\u001b[0m \u001b[0;34m->\u001b[0m \u001b[0;32mNone\u001b[0m\u001b[0;34m:\u001b[0m\u001b[0;34m\u001b[0m\u001b[0;34m\u001b[0m\u001b[0m\n",
      "\u001b[0;31mAttributeError\u001b[0m: 'DataFrame' object has no attribute 'len'"
     ]
    }
   ],
   "source": []
  },
  {
   "cell_type": "code",
   "execution_count": null,
   "metadata": {},
   "outputs": [],
   "source": []
  }
 ],
 "metadata": {
  "kernelspec": {
   "display_name": "Python 3",
   "language": "python",
   "name": "python3"
  },
  "language_info": {
   "codemirror_mode": {
    "name": "ipython",
    "version": 3
   },
   "file_extension": ".py",
   "mimetype": "text/x-python",
   "name": "python",
   "nbconvert_exporter": "python",
   "pygments_lexer": "ipython3",
   "version": "3.8.5"
  }
 },
 "nbformat": 4,
 "nbformat_minor": 4
}
